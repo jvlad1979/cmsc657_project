{
 "cells": [
  {
   "cell_type": "code",
   "execution_count": 1,
   "metadata": {},
   "outputs": [],
   "source": [
    "import numpy as np\n",
    "from qiskit import QuantumCircuit\n",
    "from qiskit.quantum_info import Kraus, SuperOp\n",
    "from qiskit.visualization import plot_histogram\n",
    "from qiskit.transpiler.preset_passmanagers import generate_preset_pass_manager\n",
    "from qiskit_aer import AerSimulator\n",
    " \n",
    "# Import from Qiskit Aer noise module\n",
    "from qiskit_aer.noise import (\n",
    "    NoiseModel,\n",
    "    QuantumError,\n",
    "    ReadoutError,\n",
    "    depolarizing_error,\n",
    "    pauli_error,\n",
    "    thermal_relaxation_error,\n",
    ")"
   ]
  },
  {
   "cell_type": "code",
   "execution_count": 2,
   "metadata": {},
   "outputs": [],
   "source": [
    "num_qubits = 4\n",
    "# gate errors/fidelity\n",
    "# p_G = [np.random.random(num_qubits)*.05]\n",
    "p_G = .01\n",
    "\n",
    "error_global_gate = depolarizing_error(p_G,num_qubits=num_qubits)\n",
    "\n",
    "# dephasing/relaxation \n",
    "T_1 = 50e-5 # relaxation time\n",
    "# T_2 = 1e-7 # time scale/dephasing\n",
    "T_2 = 50e-6 # time scale/dephasing\n",
    "tau_i = 2e-6 # idling time\n",
    "\n",
    "p_T_1 = tau_i/(4*T_1)\n",
    "p_T_2 = np.abs((tau_i**2/(2*T_2**2)) - p_T_1)\n",
    "\n",
    "error_relaxation = pauli_error([(\"I\",1-p_T_1),(\"X\",p_T_1/2),(\"Y\",p_T_1/2)])\n",
    "error_dephasing = pauli_error([(\"I\",1-p_T_2),(\"Z\",p_T_2)])\n",
    "\n",
    "# readout \n",
    "T_1R = 1e-4 # decoherence time\n",
    "tau_min = 1.5e-6 # minimum integration time\n",
    "\n",
    "#readout\n",
    "p_R = lambda tau_R : 1 - (1-np.exp(-tau_R/tau_min))*np.exp(-tau_R/T_1R)  # noqa: E731\n",
    "\n",
    "#initialization/reset\n",
    "# F_init = 0.05\n",
    "# p_res = (8/15)*(1-F_init)\n",
    "p_res = .05\n",
    "\n",
    "tau_R = 1e-6\n",
    "error_readout_reset = ReadoutError([[p_res*(1-p_R(tau_R)), 1-(p_res*(1-p_R(tau_R)))], [p_R(tau_R)*(1-p_res), 1 - p_R(tau_R)*(1-p_res)]])\n"
   ]
  },
  {
   "cell_type": "code",
   "execution_count": 3,
   "metadata": {},
   "outputs": [],
   "source": [
    "spin_noise_model = NoiseModel()\n",
    "spin_noise_model.add_all_qubit_quantum_error(error_relaxation,\"relaxation\")\n",
    "spin_noise_model.add_all_qubit_quantum_error(error_dephasing,\"dephasing\")\n",
    "spin_noise_model.add_all_qubit_quantum_error(error_global_gate,\"gate\")\n",
    "spin_noise_model.add_all_qubit_readout_error(error_readout_reset,\"readout_reset\")\n"
   ]
  },
  {
   "cell_type": "code",
   "execution_count": 4,
   "metadata": {},
   "outputs": [],
   "source": [
    "sim_noise = AerSimulator(noise_model=spin_noise_model)"
   ]
  },
  {
   "cell_type": "code",
   "execution_count": null,
   "metadata": {},
   "outputs": [],
   "source": []
  }
 ],
 "metadata": {
  "kernelspec": {
   "display_name": ".venv",
   "language": "python",
   "name": "python3"
  },
  "language_info": {
   "codemirror_mode": {
    "name": "ipython",
    "version": 3
   },
   "file_extension": ".py",
   "mimetype": "text/x-python",
   "name": "python",
   "nbconvert_exporter": "python",
   "pygments_lexer": "ipython3",
   "version": "3.11.10"
  }
 },
 "nbformat": 4,
 "nbformat_minor": 2
}
